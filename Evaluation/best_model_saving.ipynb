{
 "cells": [
  {
   "cell_type": "code",
   "execution_count": 4,
   "id": "5e024b82",
   "metadata": {},
   "outputs": [],
   "source": [
    "import pandas as pd\n",
    "import numpy as np\n",
    "import joblib\n",
    "\n",
    "from sklearn.model_selection import train_test_split\n",
    "from sklearn.linear_model import LogisticRegression\n",
    "from sklearn.svm import SVC\n",
    "from sklearn.ensemble import RandomForestClassifier, AdaBoostClassifier, GradientBoostingClassifier\n",
    "from sklearn.metrics import accuracy_score, precision_score, recall_score, f1_score"
   ]
  },
  {
   "cell_type": "code",
   "execution_count": 5,
   "id": "10a269ac",
   "metadata": {},
   "outputs": [],
   "source": [
    "# 1️⃣ Load Preprocessed Data\n",
    "# ---------------------------\n",
    "df = pd.read_csv('../Data/preprocessed.csv')\n",
    "X = df.drop('Response', axis=1)\n",
    "y = df['Response']\n",
    "\n",
    "X_train, X_test, y_train, y_test = train_test_split(\n",
    "    X, y, test_size=0.2, random_state=42, stratify=y\n",
    ")"
   ]
  },
  {
   "cell_type": "code",
   "execution_count": 6,
   "id": "e831f15d",
   "metadata": {},
   "outputs": [],
   "source": [
    "# 2️⃣ Define Models\n",
    "# ---------------------------\n",
    "models = {\n",
    "    \"Logistic Regression\": LogisticRegression(),\n",
    "    \"SVM\": SVC(probability=True),\n",
    "    \"Random Forest\": RandomForestClassifier(),\n",
    "    \"AdaBoost\": AdaBoostClassifier(),\n",
    "    \"Gradient Boosting\": GradientBoostingClassifier()\n",
    "}"
   ]
  },
  {
   "cell_type": "code",
   "execution_count": 7,
   "id": "da0634aa",
   "metadata": {},
   "outputs": [],
   "source": [
    "# 3️⃣ Train & Evaluate All Models\n",
    "# ---------------------------\n",
    "results = []\n",
    "\n",
    "for name, model in models.items():\n",
    "    model.fit(X_train, y_train)\n",
    "    y_pred = model.predict(X_test)\n",
    "\n",
    "    acc = accuracy_score(y_test, y_pred)\n",
    "    prec = precision_score(y_test, y_pred)\n",
    "    rec = recall_score(y_test, y_pred)\n",
    "    f1 = f1_score(y_test, y_pred)\n",
    "\n",
    "    results.append({\n",
    "        \"Model\": name,\n",
    "        \"Accuracy\": acc,\n",
    "        \"Precision\": prec,\n",
    "        \"Recall\": rec,\n",
    "        \"F1-Score\": f1,\n",
    "        \"TrainedModel\": model\n",
    "    })"
   ]
  },
  {
   "cell_type": "code",
   "execution_count": 8,
   "id": "5418009e",
   "metadata": {},
   "outputs": [
    {
     "name": "stdout",
     "output_type": "stream",
     "text": [
      "✅ Best Model: Logistic Regression\n",
      "\n",
      "📊 Model Comparison:\n",
      "                 Model  Accuracy  Precision  Recall  F1-Score\n",
      "0  Logistic Regression       1.0        1.0     1.0       1.0\n",
      "1                  SVM       1.0        1.0     1.0       1.0\n",
      "2        Random Forest       1.0        1.0     1.0       1.0\n",
      "3             AdaBoost       1.0        1.0     1.0       1.0\n",
      "4    Gradient Boosting       1.0        1.0     1.0       1.0\n"
     ]
    }
   ],
   "source": [
    "# 4️⃣ Pick Best Model by F1-Score\n",
    "# ---------------------------\n",
    "results_df = pd.DataFrame(results).drop(columns=['TrainedModel'])\n",
    "best_row = results_df.loc[results_df['F1-Score'].idxmax()]\n",
    "best_model_name = best_row['Model']\n",
    "print(f\"✅ Best Model: {best_model_name}\")\n",
    "print('\\n📊 Model Comparison:')\n",
    "print(results_df.sort_values(by=\"F1-Score\", ascending=False).reset_index(drop=True))"
   ]
  },
  {
   "cell_type": "code",
   "execution_count": 9,
   "id": "3e07589d",
   "metadata": {},
   "outputs": [
    {
     "name": "stdout",
     "output_type": "stream",
     "text": [
      "\n",
      "✅ Best model 'Logistic Regression' saved to ../App/model/model.pkl\n"
     ]
    }
   ],
   "source": [
    "# 5️⃣ Save Best Model\n",
    "# ---------------------------\n",
    "best_model_obj = results[results_df['F1-Score'].idxmax()]['TrainedModel']\n",
    "joblib.dump(best_model_obj, '../App/model/model.pkl')\n",
    "\n",
    "print(f\"\\n✅ Best model '{best_model_name}' saved to ../App/model/model.pkl\")"
   ]
  },
  {
   "cell_type": "code",
   "execution_count": 10,
   "id": "ef90358c",
   "metadata": {},
   "outputs": [
    {
     "name": "stdout",
     "output_type": "stream",
     "text": [
      "✅ Model comparison table saved to ../Evaluation/model_comparison.csv\n"
     ]
    }
   ],
   "source": [
    "# 6️⃣ Save Results Table (optional)\n",
    "# ---------------------------\n",
    "results_df.to_csv('../Evaluation/model_comparison.csv', index=False)\n",
    "print(\"✅ Model comparison table saved to ../Evaluation/model_comparison.csv\")"
   ]
  }
 ],
 "metadata": {
  "kernelspec": {
   "display_name": "project_5",
   "language": "python",
   "name": "python3"
  },
  "language_info": {
   "codemirror_mode": {
    "name": "ipython",
    "version": 3
   },
   "file_extension": ".py",
   "mimetype": "text/x-python",
   "name": "python",
   "nbconvert_exporter": "python",
   "pygments_lexer": "ipython3",
   "version": "3.10.18"
  }
 },
 "nbformat": 4,
 "nbformat_minor": 5
}

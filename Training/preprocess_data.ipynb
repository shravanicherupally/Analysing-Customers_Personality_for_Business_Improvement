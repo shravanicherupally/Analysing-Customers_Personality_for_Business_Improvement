{
 "cells": [
  {
   "cell_type": "code",
   "execution_count": 9,
   "id": "6cf2b89a",
   "metadata": {},
   "outputs": [],
   "source": [
    "import pandas as pd\n",
    "import numpy as np\n",
    "from sklearn.model_selection import train_test_split\n",
    "from sklearn.preprocessing import StandardScaler"
   ]
  },
  {
   "cell_type": "code",
   "execution_count": 11,
   "id": "b98e3a36",
   "metadata": {},
   "outputs": [
    {
     "name": "stdout",
     "output_type": "stream",
     "text": [
      "Original shape: (3000, 7)\n"
     ]
    },
    {
     "data": {
      "text/html": [
       "<div>\n",
       "<style scoped>\n",
       "    .dataframe tbody tr th:only-of-type {\n",
       "        vertical-align: middle;\n",
       "    }\n",
       "\n",
       "    .dataframe tbody tr th {\n",
       "        vertical-align: top;\n",
       "    }\n",
       "\n",
       "    .dataframe thead th {\n",
       "        text-align: right;\n",
       "    }\n",
       "</style>\n",
       "<table border=\"1\" class=\"dataframe\">\n",
       "  <thead>\n",
       "    <tr style=\"text-align: right;\">\n",
       "      <th></th>\n",
       "      <th>Income</th>\n",
       "      <th>Kidhome</th>\n",
       "      <th>Teenhome</th>\n",
       "      <th>Recency</th>\n",
       "      <th>MntWines</th>\n",
       "      <th>NumWebPurchases</th>\n",
       "      <th>Response</th>\n",
       "    </tr>\n",
       "  </thead>\n",
       "  <tbody>\n",
       "    <tr>\n",
       "      <th>0</th>\n",
       "      <td>88055</td>\n",
       "      <td>2</td>\n",
       "      <td>1</td>\n",
       "      <td>16</td>\n",
       "      <td>588</td>\n",
       "      <td>12</td>\n",
       "      <td>1</td>\n",
       "    </tr>\n",
       "    <tr>\n",
       "      <th>1</th>\n",
       "      <td>40843</td>\n",
       "      <td>0</td>\n",
       "      <td>2</td>\n",
       "      <td>39</td>\n",
       "      <td>0</td>\n",
       "      <td>2</td>\n",
       "      <td>0</td>\n",
       "    </tr>\n",
       "    <tr>\n",
       "      <th>2</th>\n",
       "      <td>65338</td>\n",
       "      <td>1</td>\n",
       "      <td>0</td>\n",
       "      <td>18</td>\n",
       "      <td>431</td>\n",
       "      <td>13</td>\n",
       "      <td>1</td>\n",
       "    </tr>\n",
       "    <tr>\n",
       "      <th>3</th>\n",
       "      <td>47342</td>\n",
       "      <td>2</td>\n",
       "      <td>2</td>\n",
       "      <td>98</td>\n",
       "      <td>116</td>\n",
       "      <td>2</td>\n",
       "      <td>0</td>\n",
       "    </tr>\n",
       "    <tr>\n",
       "      <th>4</th>\n",
       "      <td>76079</td>\n",
       "      <td>1</td>\n",
       "      <td>2</td>\n",
       "      <td>5</td>\n",
       "      <td>503</td>\n",
       "      <td>14</td>\n",
       "      <td>1</td>\n",
       "    </tr>\n",
       "  </tbody>\n",
       "</table>\n",
       "</div>"
      ],
      "text/plain": [
       "   Income  Kidhome  Teenhome  Recency  MntWines  NumWebPurchases  Response\n",
       "0   88055        2         1       16       588               12         1\n",
       "1   40843        0         2       39         0                2         0\n",
       "2   65338        1         0       18       431               13         1\n",
       "3   47342        2         2       98       116                2         0\n",
       "4   76079        1         2        5       503               14         1"
      ]
     },
     "execution_count": 11,
     "metadata": {},
     "output_type": "execute_result"
    }
   ],
   "source": [
    "# Load dataset\n",
    "# ---------------------------\n",
    "df = pd.read_csv('../Data/dataset.csv')\n",
    "print('Original shape:', df.shape)\n",
    "df.head()"
   ]
  },
  {
   "cell_type": "code",
   "execution_count": 12,
   "id": "a8215d3e",
   "metadata": {},
   "outputs": [
    {
     "name": "stdout",
     "output_type": "stream",
     "text": [
      "Null values before: Income             0\n",
      "Kidhome            0\n",
      "Teenhome           0\n",
      "Recency            0\n",
      "MntWines           0\n",
      "NumWebPurchases    0\n",
      "Response           0\n",
      "dtype: int64\n",
      "Null values after: Income             0\n",
      "Kidhome            0\n",
      "Teenhome           0\n",
      "Recency            0\n",
      "MntWines           0\n",
      "NumWebPurchases    0\n",
      "Response           0\n",
      "dtype: int64\n"
     ]
    }
   ],
   "source": [
    "# 2️⃣ Data Cleaning\n",
    "# ---------------------------\n",
    "\n",
    "## (i) Inconsistent Data — Example: negative Income (shouldn’t happen, but let’s fix if any)\n",
    "df = df[df['Income'] >= 0]\n",
    "\n",
    "## (ii) Noisy Data / Outliers — Example: clip extreme MntWines values\n",
    "df['MntWines'] = df['MntWines'].clip(lower=0, upper=df['MntWines'].quantile(0.99))\n",
    "\n",
    "## (iii) Duplicates — Drop duplicate rows if any\n",
    "df = df.drop_duplicates()\n",
    "\n",
    "## (iv) Null Values — Drop or fill missing values\n",
    "print('Null values before:', df.isnull().sum())\n",
    "df = df.dropna()\n",
    "print('Null values after:', df.isnull().sum())"
   ]
  },
  {
   "cell_type": "code",
   "execution_count": 13,
   "id": "af6af983",
   "metadata": {},
   "outputs": [],
   "source": [
    "# 3️⃣ Data Transformation — Scaling\n",
    "# ---------------------------\n",
    "X = df.drop('Response', axis=1)\n",
    "y = df['Response']\n",
    "\n",
    "# Example Feature Engineering: Add a total children column (Kidhome + Teenhome)\n",
    "X['TotalChildren'] = X['Kidhome'] + X['Teenhome']\n",
    "\n",
    "# Example Data Reduction: Remove Teenhome if redundant\n",
    "X = X.drop(['Teenhome'], axis=1)\n",
    "\n",
    "# Scale numeric features\n",
    "scaler = StandardScaler()\n",
    "X_scaled = scaler.fit_transform(X)"
   ]
  },
  {
   "cell_type": "code",
   "execution_count": 14,
   "id": "5d5c9a7a",
   "metadata": {},
   "outputs": [
    {
     "name": "stdout",
     "output_type": "stream",
     "text": [
      "Train: (2400, 6) Test: (600, 6)\n"
     ]
    }
   ],
   "source": [
    "# 5️⃣ Train/Test Split\n",
    "# ---------------------------\n",
    "X_train, X_test, y_train, y_test = train_test_split(\n",
    "    X_scaled, y, test_size=0.2, random_state=42, stratify=y\n",
    ")\n",
    "\n",
    "print('Train:', X_train.shape, 'Test:', X_test.shape)"
   ]
  },
  {
   "cell_type": "code",
   "execution_count": 15,
   "id": "fd76ca11",
   "metadata": {},
   "outputs": [
    {
     "name": "stdout",
     "output_type": "stream",
     "text": [
      "✅ Preprocessed dataset saved as preprocessed_customer_personality.csv\n"
     ]
    }
   ],
   "source": [
    "# 6️⃣ Save Preprocessed Data to CSV\n",
    "# ---------------------------\n",
    "# Combine scaled features + target for saving\n",
    "X_scaled_df = pd.DataFrame(X_scaled, columns=X.columns)\n",
    "X_scaled_df['Response'] = y.reset_index(drop=True)\n",
    "\n",
    "X_scaled_df.to_csv('../Data/preprocessed_customer_personality.csv', index=False)\n",
    "print('✅ Preprocessed dataset saved as preprocessed_customer_personality.csv')"
   ]
  },
  {
   "cell_type": "code",
   "execution_count": 16,
   "id": "02fcd85a",
   "metadata": {},
   "outputs": [
    {
     "name": "stdout",
     "output_type": "stream",
     "text": [
      "✅ Scaler saved for use in your Flask app.\n"
     ]
    }
   ],
   "source": [
    "# Optional: Save Scaler for Flask App\n",
    "# ---------------------------\n",
    "import joblib\n",
    "joblib.dump(scaler, '../App/model/scaler.pkl')\n",
    "print('✅ Scaler saved for use in your Flask app.')"
   ]
  }
 ],
 "metadata": {
  "kernelspec": {
   "display_name": "project_5",
   "language": "python",
   "name": "python3"
  },
  "language_info": {
   "codemirror_mode": {
    "name": "ipython",
    "version": 3
   },
   "file_extension": ".py",
   "mimetype": "text/x-python",
   "name": "python",
   "nbconvert_exporter": "python",
   "pygments_lexer": "ipython3",
   "version": "3.10.18"
  }
 },
 "nbformat": 4,
 "nbformat_minor": 5
}
